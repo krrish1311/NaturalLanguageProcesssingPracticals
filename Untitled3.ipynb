{
 "cells": [
  {
   "cell_type": "code",
   "execution_count": 1,
   "metadata": {},
   "outputs": [],
   "source": [
    "import spacy\n",
    "english = spacy.load('en_core_web_sm')\n",
    "import speech_recognition as sr"
   ]
  },
  {
   "cell_type": "code",
   "execution_count": null,
   "metadata": {},
   "outputs": [],
   "source": [
    "doc1 = english('hii my name is krrish and i pay $10 thousands dollars to my college for learning B.Tech but one thing they should know about india that education is free for scholar student')"
   ]
  },
  {
   "cell_type": "code",
   "execution_count": null,
   "metadata": {},
   "outputs": [],
   "source": [
    "for i in doc1 :\n",
    "    print(i.text ,i.pos_ , spacy.explain(i.pos_) ,i.dep_ , spacy.explain(i.dep_) ,sep='\\t')"
   ]
  },
  {
   "cell_type": "code",
   "execution_count": null,
   "metadata": {},
   "outputs": [],
   "source": [
    "doc2 = english('Hong Kong is the crudential city in the world , Microsoft paying $2 thousands to chinease people')"
   ]
  },
  {
   "cell_type": "code",
   "execution_count": null,
   "metadata": {},
   "outputs": [],
   "source": [
    "for i in doc2.ents :\n",
    "     print(i ,i.label_ ,sep ='\\t' )    "
   ]
  },
  {
   "cell_type": "code",
   "execution_count": null,
   "metadata": {},
   "outputs": [],
   "source": [
    "for i in doc2.noun_chunks :\n",
    "    print(i)"
   ]
  },
  {
   "cell_type": "code",
   "execution_count": null,
   "metadata": {},
   "outputs": [],
   "source": [
    "from nltk.stem.porter import PorterStemmer"
   ]
  },
  {
   "cell_type": "code",
   "execution_count": null,
   "metadata": {},
   "outputs": [],
   "source": [
    "pstem = PorterStemmer()\n"
   ]
  },
  {
   "cell_type": "code",
   "execution_count": null,
   "metadata": {},
   "outputs": [],
   "source": [
    "pstem.stem('running')"
   ]
  },
  {
   "cell_type": "code",
   "execution_count": null,
   "metadata": {},
   "outputs": [],
   "source": [
    "pstem.stem('calling')"
   ]
  },
  {
   "cell_type": "code",
   "execution_count": null,
   "metadata": {},
   "outputs": [],
   "source": [
    "from nltk.stem.snowball import SnowballStemmer\n"
   ]
  },
  {
   "cell_type": "code",
   "execution_count": null,
   "metadata": {},
   "outputs": [],
   "source": [
    "SnowballStemmer.stem('easily')"
   ]
  },
  {
   "cell_type": "code",
   "execution_count": null,
   "metadata": {},
   "outputs": [],
   "source": [
    "doc4 = english('On account of profit-booking triggered by weak global cues, Indian stock market benchmark indices closed with steep losses on Thursday. Selling was broad-based day trading guide for Thursday markets as most of the sectoral indices on NSE closed in the red zone. The NSE Nifty lost 151.75 points and closed at 15,727.9 levels. On Thursday trade session, bears completely outnumbered bulls as on the BSE, 1474 shares rose and 1,715 shares fell.Volumes on exchanges were on little lower than recent averages in cash markets, though NSE derivatives markets were quite active,particularly in weekly index options expiring today.However, mid-cap and small-cap indices continued their outperformance and fared much better than the benchmarks. The NSE Mid-cap 100 index fell 0.42 per cent, while the NSE Small-cap index was flat for the day.')"
   ]
  },
  {
   "cell_type": "code",
   "execution_count": null,
   "metadata": {
    "scrolled": true
   },
   "outputs": [],
   "source": [
    "for i in doc4.noun_chunks :\n",
    "    print(i)"
   ]
  },
  {
   "cell_type": "code",
   "execution_count": null,
   "metadata": {},
   "outputs": [],
   "source": [
    "1] SBI Life: Buy at ₹1020, target ₹1050 to ₹1060, stop loss ₹1000 , 2] Ambuja Cement: Buy at ₹360, target ₹370 to ₹375, stop loss ₹355"
   ]
  },
  {
   "cell_type": "code",
   "execution_count": null,
   "metadata": {},
   "outputs": [],
   "source": [
    "doc5 = english(\"  SBI Life: Buy at ₹1020, target ₹1050 to ₹1060, stop loss ₹1000 , Ambuja Cement: Buy at ₹360, target ₹370 to ₹375, stop loss ₹355 , IGL: Momentum buy at CMP ₹577, target ₹600 to ₹620,stop loss below ₹557 , Just Dial: Momentum buy at CMP or at ₹1065, target ₹1140 to ₹1190 Mudi Goel's stock recommended for Friday trade 5] Eicher Motors: Buy at ₹CMP, target ₹2775, stop loss ₹2700Sandeep Matta's top stock picks6] Lumax Auto Technologies or LumaxTech: Buy at ₹159, target ₹175, stop loss ₹1307] Prakash Industries: Buy at ₹78, target ₹90 to ₹95, stop loss ₹68 Kapil Goenka stock recommendations for Friday trade, Goldiam International: Buy at ₹542, target ₹570, stop loss ₹5189 , Vidhi Specialty Food Ingredients Ltd: Buy at ₹275, target ₹299, stop loss ₹249 , Sterling and Wilson Solar or SW Solar: Buy at ₹270, target ₹290, stop loss ₹254.\")"
   ]
  },
  {
   "cell_type": "code",
   "execution_count": null,
   "metadata": {},
   "outputs": [],
   "source": [
    "target =[]\n",
    "buy = []\n",
    "k=0"
   ]
  },
  {
   "cell_type": "code",
   "execution_count": null,
   "metadata": {},
   "outputs": [],
   "source": [
    "for i in doc5 :\n",
    "    print(i.text)\n",
    "    if 'Buy' in i.text :\n",
    "        buy.append(doc5[k+2])\n",
    "        print(i)\n",
    "    if 'target' in i.text :\n",
    "        target.append(doc5[k+1])\n",
    "        print(i)\n",
    "    k = k+1    "
   ]
  },
  {
   "cell_type": "code",
   "execution_count": null,
   "metadata": {},
   "outputs": [],
   "source": [
    "j=0\n",
    "for i in doc5 :\n",
    "    for j in doc5.noun_chunks :\n",
    "        if i in j :\n",
    "            print(j)\n",
    "            print(j.label_)"
   ]
  },
  {
   "cell_type": "code",
   "execution_count": null,
   "metadata": {},
   "outputs": [],
   "source": []
  },
  {
   "cell_type": "code",
   "execution_count": null,
   "metadata": {},
   "outputs": [],
   "source": [
    "target"
   ]
  },
  {
   "cell_type": "code",
   "execution_count": null,
   "metadata": {},
   "outputs": [],
   "source": [
    "buy"
   ]
  },
  {
   "cell_type": "code",
   "execution_count": null,
   "metadata": {},
   "outputs": [],
   "source": []
  },
  {
   "cell_type": "code",
   "execution_count": null,
   "metadata": {},
   "outputs": [],
   "source": [
    "r=sr.Recognizer()"
   ]
  },
  {
   "cell_type": "code",
   "execution_count": null,
   "metadata": {},
   "outputs": [],
   "source": [
    "#with sr.AudioFile('Joker Best Dialogue ! Dark Knight ! Batman.wav') as source :\n",
    "with sr.Microphone() as source :\n",
    "    print('start')\n",
    " \n",
    "    voice = r.listen(source)\n",
    "    \n",
    "    print('end')"
   ]
  },
  {
   "cell_type": "code",
   "execution_count": null,
   "metadata": {},
   "outputs": [],
   "source": [
    "s = r.recognize_google(voice ,language='en-US')"
   ]
  },
  {
   "cell_type": "code",
   "execution_count": null,
   "metadata": {},
   "outputs": [],
   "source": [
    "s"
   ]
  },
  {
   "cell_type": "code",
   "execution_count": null,
   "metadata": {},
   "outputs": [],
   "source": []
  },
  {
   "cell_type": "code",
   "execution_count": null,
   "metadata": {},
   "outputs": [],
   "source": []
  },
  {
   "cell_type": "code",
   "execution_count": null,
   "metadata": {},
   "outputs": [],
   "source": []
  },
  {
   "cell_type": "code",
   "execution_count": null,
   "metadata": {},
   "outputs": [],
   "source": []
  },
  {
   "cell_type": "code",
   "execution_count": null,
   "metadata": {},
   "outputs": [],
   "source": []
  },
  {
   "cell_type": "code",
   "execution_count": null,
   "metadata": {},
   "outputs": [],
   "source": []
  },
  {
   "cell_type": "code",
   "execution_count": null,
   "metadata": {},
   "outputs": [],
   "source": []
  },
  {
   "cell_type": "code",
   "execution_count": null,
   "metadata": {},
   "outputs": [],
   "source": []
  },
  {
   "cell_type": "code",
   "execution_count": null,
   "metadata": {},
   "outputs": [],
   "source": []
  },
  {
   "cell_type": "code",
   "execution_count": null,
   "metadata": {},
   "outputs": [],
   "source": []
  },
  {
   "cell_type": "code",
   "execution_count": null,
   "metadata": {},
   "outputs": [],
   "source": []
  },
  {
   "cell_type": "code",
   "execution_count": null,
   "metadata": {},
   "outputs": [],
   "source": []
  }
 ],
 "metadata": {
  "kernelspec": {
   "display_name": "Python 3",
   "language": "python",
   "name": "python3"
  },
  "language_info": {
   "codemirror_mode": {
    "name": "ipython",
    "version": 3
   },
   "file_extension": ".py",
   "mimetype": "text/x-python",
   "name": "python",
   "nbconvert_exporter": "python",
   "pygments_lexer": "ipython3",
   "version": "3.8.5"
  }
 },
 "nbformat": 4,
 "nbformat_minor": 4
}
