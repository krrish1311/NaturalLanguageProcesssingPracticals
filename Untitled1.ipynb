{
 "cells": [
  {
   "cell_type": "code",
   "execution_count": 1,
   "metadata": {},
   "outputs": [],
   "source": [
    "import spacy"
   ]
  },
  {
   "cell_type": "code",
   "execution_count": 2,
   "metadata": {},
   "outputs": [],
   "source": [
    "english = spacy.load('en_core_web_sm')"
   ]
  },
  {
   "cell_type": "code",
   "execution_count": 8,
   "metadata": {},
   "outputs": [],
   "source": [
    "s = english(\"my name is krrish and i don't know dollars but there is no rupees sign sop iam writting $52 \")"
   ]
  },
  {
   "cell_type": "code",
   "execution_count": 9,
   "metadata": {},
   "outputs": [
    {
     "data": {
      "text/plain": [
       "my name is krrish and i don't know dollars but there is no rupees sign sop iam writting $52 "
      ]
     },
     "execution_count": 9,
     "metadata": {},
     "output_type": "execute_result"
    }
   ],
   "source": [
    "s"
   ]
  },
  {
   "cell_type": "code",
   "execution_count": 11,
   "metadata": {
    "scrolled": true
   },
   "outputs": [
    {
     "name": "stdout",
     "output_type": "stream",
     "text": [
      "my\n",
      "name\n",
      "is\n",
      "krrish\n",
      "and\n",
      "i\n",
      "do\n",
      "n't\n",
      "know\n",
      "dollars\n",
      "but\n",
      "there\n",
      "is\n",
      "no\n",
      "rupees\n",
      "sign\n",
      "sop\n",
      "iam\n",
      "writting\n",
      "$\n",
      "52\n"
     ]
    }
   ],
   "source": [
    "for i in s:\n",
    "    print(i.text)"
   ]
  },
  {
   "cell_type": "code",
   "execution_count": null,
   "metadata": {},
   "outputs": [],
   "source": []
  },
  {
   "cell_type": "code",
   "execution_count": null,
   "metadata": {},
   "outputs": [],
   "source": []
  },
  {
   "cell_type": "code",
   "execution_count": 12,
   "metadata": {},
   "outputs": [
    {
     "data": {
      "text/plain": [
       "spacy.tokens.token.Token"
      ]
     },
     "execution_count": 12,
     "metadata": {},
     "output_type": "execute_result"
    }
   ],
   "source": [
    "type(s[0])"
   ]
  },
  {
   "cell_type": "code",
   "execution_count": 30,
   "metadata": {},
   "outputs": [
    {
     "data": {
      "text/plain": [
       "'ADJ'"
      ]
     },
     "execution_count": 30,
     "metadata": {},
     "output_type": "execute_result"
    }
   ],
   "source": [
    "s[3].pos_"
   ]
  },
  {
   "cell_type": "code",
   "execution_count": 31,
   "metadata": {},
   "outputs": [
    {
     "data": {
      "text/plain": [
       "'adjective'"
      ]
     },
     "execution_count": 31,
     "metadata": {},
     "output_type": "execute_result"
    }
   ],
   "source": [
    "spacy.explain('ADJ')"
   ]
  },
  {
   "cell_type": "code",
   "execution_count": 41,
   "metadata": {},
   "outputs": [
    {
     "name": "stdout",
     "output_type": "stream",
     "text": [
      "my=poss=PRON=possession modifier=pronoun\n",
      "name=nsubj=NOUN=nominal subject=noun\n",
      "is=ROOT=AUX=None=auxiliary\n",
      "krrish=acomp=ADJ=adjectival complement=adjective\n",
      "and=cc=CCONJ=coordinating conjunction=coordinating conjunction\n",
      "i=nsubj=PRON=nominal subject=pronoun\n",
      "do=aux=AUX=auxiliary=auxiliary\n",
      "n't=neg=PART=negation modifier=particle\n",
      "know=conj=VERB=conjunct=verb\n",
      "dollars=dobj=NOUN=direct object=noun\n",
      "but=cc=CCONJ=coordinating conjunction=coordinating conjunction\n",
      "there=expl=PRON=expletive=pronoun\n",
      "is=ROOT=AUX=None=auxiliary\n",
      "no=det=DET=determiner=determiner\n",
      "rupees=attr=NOUN=attribute=noun\n",
      "sign=attr=VERB=attribute=verb\n",
      "sop=compound=NOUN=compound=noun\n",
      "iam=nsubj=NOUN=nominal subject=noun\n",
      "writting=dobj=VERB=direct object=verb\n",
      "$=nmod=SYM=modifier of nominal=symbol\n",
      "52=attr=NUM=attribute=numeral\n"
     ]
    }
   ],
   "source": [
    "for i in s :\n",
    "    print(i.text , i.dep_ ,i.pos_,spacy.explain(i.dep_),spacy.explain(i.pos_),sep='=')"
   ]
  },
  {
   "cell_type": "code",
   "execution_count": null,
   "metadata": {},
   "outputs": [],
   "source": []
  }
 ],
 "metadata": {
  "kernelspec": {
   "display_name": "Python 3",
   "language": "python",
   "name": "python3"
  },
  "language_info": {
   "codemirror_mode": {
    "name": "ipython",
    "version": 3
   },
   "file_extension": ".py",
   "mimetype": "text/x-python",
   "name": "python",
   "nbconvert_exporter": "python",
   "pygments_lexer": "ipython3",
   "version": "3.8.5"
  }
 },
 "nbformat": 4,
 "nbformat_minor": 4
}
