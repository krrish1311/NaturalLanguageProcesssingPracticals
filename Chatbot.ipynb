{
 "cells": [
  {
   "cell_type": "markdown",
   "metadata": {
    "id": "Br4q6Nc9A4iW"
   },
   "source": [
    "# Importing libraries and downloading packages"
   ]
  },
  {
   "cell_type": "code",
   "execution_count": 1,
   "metadata": {
    "executionInfo": {
     "elapsed": 2164,
     "status": "ok",
     "timestamp": 1630593074830,
     "user": {
      "displayName": "Prakriti Verma",
      "photoUrl": "",
      "userId": "15319298446897028221"
     },
     "user_tz": -330
    },
    "id": "QNt7tOcEC48w"
   },
   "outputs": [],
   "source": [
    "import nltk\n",
    "import numpy as np"
   ]
  },
  {
   "cell_type": "code",
   "execution_count": 2,
   "metadata": {
    "colab": {
     "base_uri": "https://localhost:8080/"
    },
    "executionInfo": {
     "elapsed": 9,
     "status": "ok",
     "timestamp": 1630593075451,
     "user": {
      "displayName": "Prakriti Verma",
      "photoUrl": "",
      "userId": "15319298446897028221"
     },
     "user_tz": -330
    },
    "id": "sgKLrIjRC486",
    "outputId": "813dc595-eb04-4788-be33-8d7a99477867",
    "scrolled": false
   },
   "outputs": [
    {
     "name": "stderr",
     "output_type": "stream",
     "text": [
      "[nltk_data] Downloading package punkt to\n",
      "[nltk_data]     C:\\Users\\krris\\AppData\\Roaming\\nltk_data...\n",
      "[nltk_data]   Package punkt is already up-to-date!\n",
      "[nltk_data] Downloading package stopwords to\n",
      "[nltk_data]     C:\\Users\\krris\\AppData\\Roaming\\nltk_data...\n",
      "[nltk_data]   Package stopwords is already up-to-date!\n",
      "[nltk_data] Downloading package wordnet to\n",
      "[nltk_data]     C:\\Users\\krris\\AppData\\Roaming\\nltk_data...\n",
      "[nltk_data]   Package wordnet is already up-to-date!\n"
     ]
    },
    {
     "data": {
      "text/plain": [
       "True"
      ]
     },
     "execution_count": 2,
     "metadata": {},
     "output_type": "execute_result"
    }
   ],
   "source": [
    "# downloading model to tokenize message\n",
    "nltk.download('punkt')\n",
    "# downloading stopwords\n",
    "nltk.download('stopwords')\n",
    "# downloading wordnet, which contains all lemmas of english language\n",
    "nltk.download('wordnet')"
   ]
  },
  {
   "cell_type": "markdown",
   "metadata": {},
   "source": [
    "[nltk_data] Downloading package punkt to\n",
    "[nltk_data]     C:\\Users\\krris\\AppData\\Roaming\\nltk_data...\n",
    "[nltk_data]   Package punkt is already up-to-date!\n",
    "[nltk_data] Downloading package stopwords to\n",
    "[nltk_data]     C:\\Users\\krris\\AppData\\Roaming\\nltk_data...\n",
    "[nltk_data]   Package stopwords is already up-to-date!\n",
    "[nltk_data] Downloading package wordnet to\n",
    "[nltk_data]     C:\\Users\\krris\\AppData\\Roaming\\nltk_data...\n",
    "[nltk_data]   Package wordnet is already up-to-date!"
   ]
  },
  {
   "cell_type": "code",
   "execution_count": 5,
   "metadata": {
    "executionInfo": {
     "elapsed": 646,
     "status": "ok",
     "timestamp": 1630593079054,
     "user": {
      "displayName": "Prakriti Verma",
      "photoUrl": "",
      "userId": "15319298446897028221"
     },
     "user_tz": -330
    },
    "id": "Cy4x4jMmC488"
   },
   "outputs": [],
   "source": [
    "from nltk.tokenize import word_tokenize\n",
    "\n",
    "from nltk.corpus import stopwords\n",
    "stop_words = stopwords.words('english')\n",
    "\n",
    "from nltk.stem import WordNetLemmatizer"
   ]
  },
  {
   "cell_type": "code",
   "execution_count": 6,
   "metadata": {
    "id": "7Q3fIVZVdYDG",
    "scrolled": true
   },
   "outputs": [
    {
     "data": {
      "text/plain": [
       "['i',\n",
       " 'me',\n",
       " 'my',\n",
       " 'myself',\n",
       " 'we',\n",
       " 'our',\n",
       " 'ours',\n",
       " 'ourselves',\n",
       " 'you',\n",
       " \"you're\",\n",
       " \"you've\",\n",
       " \"you'll\",\n",
       " \"you'd\",\n",
       " 'your',\n",
       " 'yours',\n",
       " 'yourself',\n",
       " 'yourselves',\n",
       " 'he',\n",
       " 'him',\n",
       " 'his',\n",
       " 'himself',\n",
       " 'she',\n",
       " \"she's\",\n",
       " 'her',\n",
       " 'hers',\n",
       " 'herself',\n",
       " 'it',\n",
       " \"it's\",\n",
       " 'its',\n",
       " 'itself',\n",
       " 'they',\n",
       " 'them',\n",
       " 'their',\n",
       " 'theirs',\n",
       " 'themselves',\n",
       " 'what',\n",
       " 'which',\n",
       " 'who',\n",
       " 'whom',\n",
       " 'this',\n",
       " 'that',\n",
       " \"that'll\",\n",
       " 'these',\n",
       " 'those',\n",
       " 'am',\n",
       " 'is',\n",
       " 'are',\n",
       " 'was',\n",
       " 'were',\n",
       " 'be',\n",
       " 'been',\n",
       " 'being',\n",
       " 'have',\n",
       " 'has',\n",
       " 'had',\n",
       " 'having',\n",
       " 'do',\n",
       " 'does',\n",
       " 'did',\n",
       " 'doing',\n",
       " 'a',\n",
       " 'an',\n",
       " 'the',\n",
       " 'and',\n",
       " 'but',\n",
       " 'if',\n",
       " 'or',\n",
       " 'because',\n",
       " 'as',\n",
       " 'until',\n",
       " 'while',\n",
       " 'of',\n",
       " 'at',\n",
       " 'by',\n",
       " 'for',\n",
       " 'with',\n",
       " 'about',\n",
       " 'against',\n",
       " 'between',\n",
       " 'into',\n",
       " 'through',\n",
       " 'during',\n",
       " 'before',\n",
       " 'after',\n",
       " 'above',\n",
       " 'below',\n",
       " 'to',\n",
       " 'from',\n",
       " 'up',\n",
       " 'down',\n",
       " 'in',\n",
       " 'out',\n",
       " 'on',\n",
       " 'off',\n",
       " 'over',\n",
       " 'under',\n",
       " 'again',\n",
       " 'further',\n",
       " 'then',\n",
       " 'once',\n",
       " 'here',\n",
       " 'there',\n",
       " 'when',\n",
       " 'where',\n",
       " 'why',\n",
       " 'how',\n",
       " 'all',\n",
       " 'any',\n",
       " 'both',\n",
       " 'each',\n",
       " 'few',\n",
       " 'more',\n",
       " 'most',\n",
       " 'other',\n",
       " 'some',\n",
       " 'such',\n",
       " 'no',\n",
       " 'nor',\n",
       " 'not',\n",
       " 'only',\n",
       " 'own',\n",
       " 'same',\n",
       " 'so',\n",
       " 'than',\n",
       " 'too',\n",
       " 'very',\n",
       " 's',\n",
       " 't',\n",
       " 'can',\n",
       " 'will',\n",
       " 'just',\n",
       " 'don',\n",
       " \"don't\",\n",
       " 'should',\n",
       " \"should've\",\n",
       " 'now',\n",
       " 'd',\n",
       " 'll',\n",
       " 'm',\n",
       " 'o',\n",
       " 're',\n",
       " 've',\n",
       " 'y',\n",
       " 'ain',\n",
       " 'aren',\n",
       " \"aren't\",\n",
       " 'couldn',\n",
       " \"couldn't\",\n",
       " 'didn',\n",
       " \"didn't\",\n",
       " 'doesn',\n",
       " \"doesn't\",\n",
       " 'hadn',\n",
       " \"hadn't\",\n",
       " 'hasn',\n",
       " \"hasn't\",\n",
       " 'haven',\n",
       " \"haven't\",\n",
       " 'isn',\n",
       " \"isn't\",\n",
       " 'ma',\n",
       " 'mightn',\n",
       " \"mightn't\",\n",
       " 'mustn',\n",
       " \"mustn't\",\n",
       " 'needn',\n",
       " \"needn't\",\n",
       " 'shan',\n",
       " \"shan't\",\n",
       " 'shouldn',\n",
       " \"shouldn't\",\n",
       " 'wasn',\n",
       " \"wasn't\",\n",
       " 'weren',\n",
       " \"weren't\",\n",
       " 'won',\n",
       " \"won't\",\n",
       " 'wouldn',\n",
       " \"wouldn't\"]"
      ]
     },
     "execution_count": 6,
     "metadata": {},
     "output_type": "execute_result"
    }
   ],
   "source": [
    "stop_words"
   ]
  },
  {
   "cell_type": "markdown",
   "metadata": {
    "id": "XW2vOhbcBMXY"
   },
   "source": [
    "# Function to clean text"
   ]
  },
  {
   "cell_type": "code",
   "execution_count": 7,
   "metadata": {
    "executionInfo": {
     "elapsed": 366,
     "status": "ok",
     "timestamp": 1630593332486,
     "user": {
      "displayName": "Prakriti Verma",
      "photoUrl": "",
      "userId": "15319298446897028221"
     },
     "user_tz": -330
    },
    "id": "A_End2kUC489"
   },
   "outputs": [],
   "source": [
    "def clean_corpus(corpus):\n",
    "  # lowering every word in text\n",
    "  corpus = [ doc.lower() for doc in corpus]\n",
    "  cleaned_corpus = []\n",
    "  \n",
    "  stop_words = stopwords.words('english')\n",
    "  wordnet_lemmatizer = WordNetLemmatizer()\n",
    "\n",
    "  # iterating over every text\n",
    "  for doc in corpus:\n",
    "    # tokenizing text\n",
    "    tokens = word_tokenize(doc)\n",
    "    cleaned_sentence = [] \n",
    "    for token in tokens: \n",
    "      # removing stopwords, and punctuation\n",
    "      if token not in stop_words and token.isalpha(): \n",
    "        # applying lemmatization\n",
    "        cleaned_sentence.append(wordnet_lemmatizer.lemmatize(token)) \n",
    "    cleaned_corpus.append(' '.join(cleaned_sentence))\n",
    "  return cleaned_corpus"
   ]
  },
  {
   "cell_type": "code",
   "execution_count": null,
   "metadata": {
    "id": "1Q_dP2CozTVE"
   },
   "outputs": [],
   "source": []
  },
  {
   "cell_type": "markdown",
   "metadata": {
    "id": "97atD-mrBq_E"
   },
   "source": [
    "# Loading and cleaning intents"
   ]
  },
  {
   "cell_type": "code",
   "execution_count": null,
   "metadata": {
    "colab": {
     "base_uri": "https://localhost:8080/"
    },
    "executionInfo": {
     "elapsed": 1499,
     "status": "ok",
     "timestamp": 1630593226977,
     "user": {
      "displayName": "Prakriti Verma",
      "photoUrl": "",
      "userId": "15319298446897028221"
     },
     "user_tz": -330
    },
    "id": "KJSB62LkbzIb",
    "outputId": "bc9adbee-f809-44f9-8cd3-86fcc279435d",
    "scrolled": true
   },
   "outputs": [],
   "source": [
    "!wget -O intents.json https://techlearn-cdn.s3.amazonaws.com/bs_swiggy_chatbot/intent.json"
   ]
  },
  {
   "cell_type": "code",
   "execution_count": 8,
   "metadata": {},
   "outputs": [],
   "source": [
    "intents={'intents': [{'patterns': ['Hi there',\n",
    "    'Is anyone there?',\n",
    "    'Hey',\n",
    "    'Hola',\n",
    "    'Hello',\n",
    "    'Good day'],\n",
    "   'responses': ['Hello, how can I help?',\n",
    "    'Good to see you again',\n",
    "    'Hi there, how can I help?'],\n",
    "   'tag': 'greeting'},\n",
    "  {'patterns': ['Bye',\n",
    "    'See you later',\n",
    "    'Goodbye',\n",
    "    'Nice chatting to you, bye',\n",
    "    'Till next time',\n",
    "    \"No, that's it\"],\n",
    "   'responses': ['See you!', 'Have a nice day', 'Bye! Come back again soon.'],\n",
    "   'tag': 'goodbye'},\n",
    "  {'patterns': ['Thanks',\n",
    "    'Thank you',\n",
    "    \"That's helpful\",\n",
    "    'Awesome, thanks',\n",
    "    'Thanks for helping me'],\n",
    "   'responses': ['Happy to help!', 'Any time!', 'My pleasure'],\n",
    "   'tag': 'thanks'},\n",
    "  {'patterns': [],\n",
    "   'responses': [\"Sorry, can't understand you\",\n",
    "    'Please give me more info',\n",
    "    'Not sure I understand'],\n",
    "   'tag': 'noanswer'},\n",
    "  {'patterns': ['How you could help me?',\n",
    "    'What help you provide?',\n",
    "    'How you can be helpful?',\n",
    "    'What support is offered'],\n",
    "   'responses': ['I can help you with your order status, delivery, and refund. ',\n",
    "    'I can check your order status, and cancel your order.'],\n",
    "   'tag': 'options'},\n",
    "  {'action': 'CHECK_ORDER_STATUS',\n",
    "   'next-intent-tag': ['order-status'],\n",
    "   'patterns': ['Please check my order status.',\n",
    "    'I am not able to check my order status.',\n",
    "    'Help me with my order status',\n",
    "    'Order Status',\n",
    "    'Where is my order?',\n",
    "    'Where is my food',\n",
    "    'Track my order',\n",
    "    'Track my food'],\n",
    "   'responses': ['I am checking your status of your order, Please wait.',\n",
    "    'I am checking up with for your order'],\n",
    "   'tag': 'order-status-request'},\n",
    "  {'patterns': [],\n",
    "   'responses': ['Your order is currently {order_status}, it will be delivered in {delivery_time} minutes. Do you need any more help?',\n",
    "    'Your order will be delivered in {delivery_time}, currently it is {order_status}. Is there anything else, we can help you with?'],\n",
    "   'tag': 'order-status'},\n",
    "  {'action': 'ORDER_CANCEL_CONFIRMATION',\n",
    "   'next-intent-tag': ['cancel-order', 'no-cancel-order'],\n",
    "   'patterns': ['Hi, I want to cancel my order.',\n",
    "    'I want to cancel my order',\n",
    "    'Please cancel my order',\n",
    "    'Cancel my order'],\n",
    "   'responses': ['I can cancel your order, If your order is in kitchen, there will be a cancellation fee.  Do you want me to proceed?',\n",
    "    'I can cancel your order, there can be a cancellation fee depending on your order status. I need your final confirmation to confirm your order.'],\n",
    "   'tag': 'cancel-order-request'},\n",
    "  {'patterns': [],\n",
    "   'responses': ['I have canceled your order, the order refund will reflect in your account in 2 days. Do you need any more help?',\n",
    "    'Your order is canceled, you will receive refund for this order in 2 days. Is there anything else, we can help you with?'],\n",
    "   'tag': 'cancel-order'},\n",
    "  {'patterns': [],\n",
    "   'responses': ['Okay, I am not canceling your order. Do you need any more help?',\n",
    "    'Alright, I am not canceling your order. Is there anything else, we can help you with?'],\n",
    "   'tag': 'no-cancel-order'},\n",
    "  {'action': 'ADD_DELIVERY_INSTRUCTIONS',\n",
    "   'next-intent-tag': ['added-delivery-instructions'],\n",
    "   'patterns': ['I want to add delivery instructions',\n",
    "    'Please add delivery instructions',\n",
    "    'Include delivery instructions'],\n",
    "   'responses': ['Please tell me your delivery instructions, I will pass it on to our delivery executive.'],\n",
    "   'tag': 'delivery-instructions'},\n",
    "  {'patterns': [],\n",
    "   'responses': ['I got your instructions, and I have informed our delivery executive. Is there anything else, we can help you with?'],\n",
    "   'tag': 'added-delivery-instructions'},\n",
    "  {'patterns': ['Tell me a joke',\n",
    "    'I am feeling bored',\n",
    "    'Joke please',\n",
    "    'Make me laugh',\n",
    "    'I want to laugh'],\n",
    "   'responses': [\"Here's a joke to lighten your mood \\nMy roommate and I are ordering some Chinese food for delivery.\",\n",
    "    'Guy staring at an ambulance in front of Whole Foods:\\n “Somebody must have accidentally eaten gluten.',\n",
    "    'What has T in the beginning, T in the middle, and T at the end? \\n- A teapot.'],\n",
    "   'tag': 'joke'}]}"
   ]
  },
  {
   "cell_type": "code",
   "execution_count": null,
   "metadata": {
    "executionInfo": {
     "elapsed": 360,
     "status": "ok",
     "timestamp": 1630593246218,
     "user": {
      "displayName": "Prakriti Verma",
      "photoUrl": "",
      "userId": "15319298446897028221"
     },
     "user_tz": -330
    },
    "id": "BklOwtYLC48-"
   },
   "outputs": [],
   "source": [
    "import json\n",
    "with open('intents.json', 'r') as file:\n",
    "  intents = json.load(file)"
   ]
  },
  {
   "cell_type": "code",
   "execution_count": 9,
   "metadata": {
    "executionInfo": {
     "elapsed": 402,
     "status": "ok",
     "timestamp": 1630593279517,
     "user": {
      "displayName": "Prakriti Verma",
      "photoUrl": "",
      "userId": "15319298446897028221"
     },
     "user_tz": -330
    },
    "id": "6CEzIy-WC48_"
   },
   "outputs": [],
   "source": [
    "corpus = []\n",
    "tags = []\n",
    "\n",
    "for intent in intents['intents']:\n",
    "    # taking all patterns in intents to train a neural network\n",
    "    for pattern in intent['patterns']:\n",
    "        corpus.append(pattern)\n",
    "        tags.append(intent['tag'])"
   ]
  },
  {
   "cell_type": "code",
   "execution_count": null,
   "metadata": {
    "id": "m_z4eHK5-mck"
   },
   "outputs": [],
   "source": []
  },
  {
   "cell_type": "code",
   "execution_count": 10,
   "metadata": {
    "colab": {
     "base_uri": "https://localhost:8080/"
    },
    "executionInfo": {
     "elapsed": 1743,
     "status": "ok",
     "timestamp": 1630593339935,
     "user": {
      "displayName": "Prakriti Verma",
      "photoUrl": "",
      "userId": "15319298446897028221"
     },
     "user_tz": -330
    },
    "id": "_jqWKIzkC48_",
    "outputId": "6c7f79e3-cac7-4c57-ada8-8aeb84c79363"
   },
   "outputs": [
    {
     "data": {
      "text/plain": [
       "['hi',\n",
       " 'anyone',\n",
       " 'hey',\n",
       " 'hola',\n",
       " 'hello',\n",
       " 'good day',\n",
       " 'bye',\n",
       " 'see later',\n",
       " 'goodbye',\n",
       " 'nice chatting bye',\n",
       " 'till next time',\n",
       " '',\n",
       " 'thanks',\n",
       " 'thank',\n",
       " 'helpful',\n",
       " 'awesome thanks',\n",
       " 'thanks helping',\n",
       " 'could help',\n",
       " 'help provide',\n",
       " 'helpful',\n",
       " 'support offered',\n",
       " 'please check order status',\n",
       " 'able check order status',\n",
       " 'help order status',\n",
       " 'order status',\n",
       " 'order',\n",
       " 'food',\n",
       " 'track order',\n",
       " 'track food',\n",
       " 'hi want cancel order',\n",
       " 'want cancel order',\n",
       " 'please cancel order',\n",
       " 'cancel order',\n",
       " 'want add delivery instruction',\n",
       " 'please add delivery instruction',\n",
       " 'include delivery instruction',\n",
       " 'tell joke',\n",
       " 'feeling bored',\n",
       " 'joke please',\n",
       " 'make laugh',\n",
       " 'want laugh']"
      ]
     },
     "execution_count": 10,
     "metadata": {},
     "output_type": "execute_result"
    }
   ],
   "source": [
    "cleaned_corpus = clean_corpus(corpus)\n",
    "cleaned_corpus"
   ]
  },
  {
   "cell_type": "markdown",
   "metadata": {
    "id": "h5nAAo7PB1Kz"
   },
   "source": [
    "# Vectorizing intents"
   ]
  },
  {
   "cell_type": "code",
   "execution_count": 11,
   "metadata": {
    "executionInfo": {
     "elapsed": 813,
     "status": "ok",
     "timestamp": 1630594678531,
     "user": {
      "displayName": "Prakriti Verma",
      "photoUrl": "",
      "userId": "15319298446897028221"
     },
     "user_tz": -330
    },
    "id": "1Y_ngS1NC49A"
   },
   "outputs": [],
   "source": [
    "from sklearn.feature_extraction.text import TfidfVectorizer\n",
    "\n",
    "vectorizer = TfidfVectorizer()\n",
    "X = vectorizer.fit_transform(cleaned_corpus)"
   ]
  },
  {
   "cell_type": "code",
   "execution_count": 12,
   "metadata": {
    "executionInfo": {
     "elapsed": 6,
     "status": "ok",
     "timestamp": 1630594680386,
     "user": {
      "displayName": "Prakriti Verma",
      "photoUrl": "",
      "userId": "15319298446897028221"
     },
     "user_tz": -330
    },
    "id": "8PekvuYZDaAH"
   },
   "outputs": [],
   "source": [
    "from sklearn.preprocessing import OneHotEncoder\n",
    "\n",
    "encoder = OneHotEncoder()\n",
    "y = encoder.fit_transform(np.array(tags).reshape(-1,1))"
   ]
  },
  {
   "cell_type": "markdown",
   "metadata": {
    "id": "BPtJ-gk5B5kN"
   },
   "source": [
    "# Training neural network"
   ]
  },
  {
   "cell_type": "code",
   "execution_count": 13,
   "metadata": {
    "colab": {
     "base_uri": "https://localhost:8080/"
    },
    "executionInfo": {
     "elapsed": 1037,
     "status": "ok",
     "timestamp": 1630594684931,
     "user": {
      "displayName": "Prakriti Verma",
      "photoUrl": "",
      "userId": "15319298446897028221"
     },
     "user_tz": -330
    },
    "id": "RT_NXJApEYdr",
    "outputId": "a772d2fc-cf47-4df0-88f0-bd17e585233d"
   },
   "outputs": [
    {
     "name": "stdout",
     "output_type": "stream",
     "text": [
      "Model: \"sequential\"\n",
      "_________________________________________________________________\n",
      "Layer (type)                 Output Shape              Param #   \n",
      "=================================================================\n",
      "dense (Dense)                (None, 128)               5888      \n",
      "_________________________________________________________________\n",
      "dropout (Dropout)            (None, 128)               0         \n",
      "_________________________________________________________________\n",
      "dense_1 (Dense)              (None, 64)                8256      \n",
      "_________________________________________________________________\n",
      "dropout_1 (Dropout)          (None, 64)                0         \n",
      "_________________________________________________________________\n",
      "dense_2 (Dense)              (None, 8)                 520       \n",
      "=================================================================\n",
      "Total params: 14,664\n",
      "Trainable params: 14,664\n",
      "Non-trainable params: 0\n",
      "_________________________________________________________________\n"
     ]
    }
   ],
   "source": [
    "from keras import Sequential\n",
    "from keras.layers import Dense, Dropout\n",
    "\n",
    "model = Sequential([\n",
    "                    Dense(128, input_shape=(X.shape[1],), activation='relu'),\n",
    "                    Dropout(0.2),\n",
    "                    Dense(64, activation='relu'),\n",
    "                    Dropout(0.2),\n",
    "                    Dense(y.shape[1], activation='softmax')\n",
    "])\n",
    "\n",
    "model.compile(loss='categorical_crossentropy', optimizer='adam', metrics=['accuracy'])\n",
    "model.summary()"
   ]
  },
  {
   "cell_type": "code",
   "execution_count": 14,
   "metadata": {
    "colab": {
     "base_uri": "https://localhost:8080/"
    },
    "executionInfo": {
     "elapsed": 2794,
     "status": "ok",
     "timestamp": 1630594725573,
     "user": {
      "displayName": "Prakriti Verma",
      "photoUrl": "",
      "userId": "15319298446897028221"
     },
     "user_tz": -330
    },
    "id": "hQif3TZ2FwbK",
    "outputId": "c7263665-fabe-4c2e-fdb5-59f1d5cec423"
   },
   "outputs": [
    {
     "name": "stdout",
     "output_type": "stream",
     "text": [
      "Epoch 1/20\n",
      "41/41 [==============================] - 51s 5ms/step - loss: 2.0962 - accuracy: 0.0502\n",
      "Epoch 2/20\n",
      "41/41 [==============================] - 0s 4ms/step - loss: 1.9897 - accuracy: 0.3076\n",
      "Epoch 3/20\n",
      "41/41 [==============================] - 0s 4ms/step - loss: 1.9010 - accuracy: 0.4271\n",
      "Epoch 4/20\n",
      "41/41 [==============================] - 0s 4ms/step - loss: 1.7762 - accuracy: 0.3965\n",
      "Epoch 5/20\n",
      "41/41 [==============================] - 0s 4ms/step - loss: 1.6180 - accuracy: 0.4559\n",
      "Epoch 6/20\n",
      "41/41 [==============================] - 0s 4ms/step - loss: 1.4970 - accuracy: 0.6971\n",
      "Epoch 7/20\n",
      "41/41 [==============================] - 0s 4ms/step - loss: 1.2969 - accuracy: 0.7439\n",
      "Epoch 8/20\n",
      "41/41 [==============================] - 0s 4ms/step - loss: 1.1642 - accuracy: 0.8329\n",
      "Epoch 9/20\n",
      "41/41 [==============================] - 0s 4ms/step - loss: 0.8349 - accuracy: 0.8644\n",
      "Epoch 10/20\n",
      "41/41 [==============================] - 0s 5ms/step - loss: 0.6618 - accuracy: 0.8869\n",
      "Epoch 11/20\n",
      "41/41 [==============================] - 0s 4ms/step - loss: 0.4731 - accuracy: 0.9441\n",
      "Epoch 12/20\n",
      "41/41 [==============================] - 0s 4ms/step - loss: 0.3941 - accuracy: 0.9685\n",
      "Epoch 13/20\n",
      "41/41 [==============================] - 0s 4ms/step - loss: 0.2062 - accuracy: 0.9885\n",
      "Epoch 14/20\n",
      "41/41 [==============================] - 0s 4ms/step - loss: 0.1874 - accuracy: 0.9802\n",
      "Epoch 15/20\n",
      "41/41 [==============================] - 0s 4ms/step - loss: 0.1456 - accuracy: 0.9943\n",
      "Epoch 16/20\n",
      "41/41 [==============================] - 0s 4ms/step - loss: 0.1536 - accuracy: 0.9936\n",
      "Epoch 17/20\n",
      "41/41 [==============================] - 0s 4ms/step - loss: 0.1446 - accuracy: 0.9855\n",
      "Epoch 18/20\n",
      "41/41 [==============================] - 0s 4ms/step - loss: 0.1779 - accuracy: 1.0000\n",
      "Epoch 19/20\n",
      "41/41 [==============================] - 0s 5ms/step - loss: 0.1500 - accuracy: 0.9515\n",
      "Epoch 20/20\n",
      "41/41 [==============================] - 0s 4ms/step - loss: 0.2185 - accuracy: 0.8896\n"
     ]
    }
   ],
   "source": [
    "history = model.fit(X.toarray(), y.toarray(), epochs=20, batch_size=1)"
   ]
  },
  {
   "cell_type": "markdown",
   "metadata": {
    "id": "vhbHBoOhB_hm"
   },
   "source": [
    "# Classifying messages to intent"
   ]
  },
  {
   "cell_type": "markdown",
   "metadata": {
    "id": "h9PNlGPAVwQW"
   },
   "source": [
    "1. If the intent probability does not match with any intent, then send it to no answer.\n",
    "\n",
    "2. Get Intent\n",
    "\n",
    "3. Perform Action\n"
   ]
  },
  {
   "cell_type": "code",
   "execution_count": null,
   "metadata": {
    "colab": {
     "base_uri": "https://localhost:8080/"
    },
    "executionInfo": {
     "elapsed": 665,
     "status": "ok",
     "timestamp": 1630594945121,
     "user": {
      "displayName": "Prakriti Verma",
      "photoUrl": "",
      "userId": "15319298446897028221"
     },
     "user_tz": -330
    },
    "id": "xoEL5PgKG-sv",
    "outputId": "d3ea7f79-d932-4b9a-fdfe-22c36ca543e3"
   },
   "outputs": [],
   "source": [
    "# if prediction for every tag is low, then we want to classify that message as noanswer\n",
    "\n",
    "INTENT_NOT_FOUND_THRESHOLD = 0.40\n",
    "\n",
    "def predict_intent_tag(message):\n",
    "  message = clean_corpus([message])\n",
    "  X_test = vectorizer.transform(message)\n",
    "  y = model.predict(X_test.toarray())\n",
    "  \n",
    "  # if probability of all intent is low, classify it as noanswer\n",
    "  if y.max() < INTENT_NOT_FOUND_THRESHOLD:\n",
    "    return 'noanswer'\n",
    "  \n",
    "  prediction = np.zeros_like(y[0])\n",
    "  prediction[y.argmax()] = 1\n",
    "  tag = encoder.inverse_transform([prediction])[0][0]\n",
    "  return tag\n",
    "\n",
    "print(predict_intent_tag('How you could help me?'))\n",
    "print(predict_intent_tag('swiggy chat bot'))\n",
    "print(predict_intent_tag('Where\\'s my order'))\n"
   ]
  },
  {
   "cell_type": "code",
   "execution_count": null,
   "metadata": {
    "executionInfo": {
     "elapsed": 3,
     "status": "ok",
     "timestamp": 1630594946852,
     "user": {
      "displayName": "Prakriti Verma",
      "photoUrl": "",
      "userId": "15319298446897028221"
     },
     "user_tz": -330
    },
    "id": "VSM0pSo-P91L"
   },
   "outputs": [],
   "source": [
    "import random\n",
    "import time "
   ]
  },
  {
   "cell_type": "code",
   "execution_count": null,
   "metadata": {
    "executionInfo": {
     "elapsed": 3,
     "status": "ok",
     "timestamp": 1630594947307,
     "user": {
      "displayName": "Prakriti Verma",
      "photoUrl": "",
      "userId": "15319298446897028221"
     },
     "user_tz": -330
    },
    "id": "ziNmSPKCLJSz"
   },
   "outputs": [],
   "source": [
    "def get_intent(tag):\n",
    "  # to return complete intent from intent tag\n",
    "  for intent in intents['intents']:\n",
    "    if intent['tag'] == tag:\n",
    "      return intent"
   ]
  },
  {
   "cell_type": "code",
   "execution_count": null,
   "metadata": {
    "executionInfo": {
     "elapsed": 392,
     "status": "ok",
     "timestamp": 1630594950766,
     "user": {
      "displayName": "Prakriti Verma",
      "photoUrl": "",
      "userId": "15319298446897028221"
     },
     "user_tz": -330
    },
    "id": "H0x8dXrlPjIp"
   },
   "outputs": [],
   "source": [
    "def perform_action(action_code, intent):\n",
    "  # funition to perform an action which is required by intent\n",
    "  \n",
    "  if action_code == 'CHECK_ORDER_STATUS':\n",
    "    print('\\n Checking database \\n')\n",
    "    time.sleep(2)\n",
    "    order_status = ['in kitchen', 'with delivery executive']\n",
    "    delivery_time = []\n",
    "    return {'intent-tag':intent['next-intent-tag'][0],\n",
    "            'order_status': random.choice(order_status),\n",
    "            'delivery_time': random.randint(10, 30)}\n",
    "  \n",
    "  elif action_code == 'ORDER_CANCEL_CONFIRMATION':\n",
    "    ch = input('BOT: Do you want to continue (Y/n) ?')\n",
    "    if ch == 'y' or ch == 'Y':\n",
    "      choice = 0\n",
    "    else:\n",
    "      choice = 1\n",
    "    return {'intent-tag':intent['next-intent-tag'][choice]}\n",
    "  \n",
    "  elif action_code == 'ADD_DELIVERY_INSTRUCTIONS':\n",
    "    instructions = input('Your Instructions: ')\n",
    "    return {'intent-tag':intent['next-intent-tag'][0]}"
   ]
  },
  {
   "cell_type": "markdown",
   "metadata": {
    "id": "zg_Ct0YQCry5"
   },
   "source": [
    "# Complete chat bot"
   ]
  },
  {
   "cell_type": "code",
   "execution_count": null,
   "metadata": {
    "colab": {
     "base_uri": "https://localhost:8080/"
    },
    "executionInfo": {
     "elapsed": 90147,
     "status": "ok",
     "timestamp": 1630595102988,
     "user": {
      "displayName": "Prakriti Verma",
      "photoUrl": "",
      "userId": "15319298446897028221"
     },
     "user_tz": -330
    },
    "id": "axwe43o_JRm6",
    "outputId": "31243e38-f6ad-49d3-d572-cfd3c4a24e41"
   },
   "outputs": [],
   "source": [
    "while True:\n",
    "  # get message from user\n",
    "  message = input('You: ')\n",
    "  # predict intent tag using trained neural network\n",
    "  tag = predict_intent_tag(message)\n",
    "  # get complete intent from intent tag\n",
    "  intent = get_intent(tag)\n",
    "  # generate random response from intent\n",
    "  response = random.choice(intent['responses'])\n",
    "  print('Bot: ', response)\n",
    "\n",
    "  # check if there's a need to perform some action\n",
    "  if 'action' in intent.keys():\n",
    "    action_code = intent['action']\n",
    "    # perform action\n",
    "    data = perform_action(action_code, intent)\n",
    "    # get follow up intent after performing action\n",
    "    followup_intent = get_intent(data['intent-tag'])\n",
    "    # generate random response from follow up intent\n",
    "    response = random.choice(followup_intent['responses'])\n",
    "\n",
    "    # print randomly selected response\n",
    "    if len(data.keys()) > 1:\n",
    "      print('Bot: ', response.format(**data))\n",
    "    else:\n",
    "      print('Bot: ', response)\n",
    "\n",
    "  # break loop if intent was goodbye\n",
    "  if tag == 'goodbye':\n",
    "    break"
   ]
  },
  {
   "cell_type": "code",
   "execution_count": null,
   "metadata": {
    "id": "NNIlpnMWgCRu"
   },
   "outputs": [],
   "source": [
    "Feedback Link: https://www.techlearn.live/feedback?scheduleId=6129d8f854b6282adce910a9\n",
    "Notebook - https://drive.google.com/file/d/1wefgT9dCaSGMRoZ-FmWClqDscEmshTzO/view?usp=sharing\n",
    "Code - https://drive.google.com/file/d/1tYRUvmwJ7Tb8kF-jEQCvdSOEGr4G3nTm/view?usp=sharing"
   ]
  },
  {
   "cell_type": "markdown",
   "metadata": {
    "id": "EE1Av-2PEJPE"
   },
   "source": [
    "support@techlearn.live"
   ]
  }
 ],
 "metadata": {
  "colab": {
   "collapsed_sections": [],
   "name": "Chatbot.ipynb",
   "provenance": []
  },
  "kernelspec": {
   "display_name": "Python 3",
   "language": "python",
   "name": "python3"
  },
  "language_info": {
   "codemirror_mode": {
    "name": "ipython",
    "version": 3
   },
   "file_extension": ".py",
   "mimetype": "text/x-python",
   "name": "python",
   "nbconvert_exporter": "python",
   "pygments_lexer": "ipython3",
   "version": "3.8.5"
  }
 },
 "nbformat": 4,
 "nbformat_minor": 1
}
